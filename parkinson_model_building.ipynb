{
 "cells": [
  {
   "cell_type": "code",
   "execution_count": 1,
   "metadata": {
    "colab": {
     "base_uri": "https://localhost:8080/",
     "height": 34
    },
    "colab_type": "code",
    "id": "W8iTXS6XLTuR",
    "outputId": "9902e492-9948-41c5-8229-43dc1ca9adb8"
   },
   "outputs": [],
   "source": [
    "import numpy as np\n",
    "import pandas as pd\n",
    "import matplotlib.pyplot as plt\n",
    "import seaborn as sns\n",
    "\n",
    "%matplotlib inline\n",
    "\n",
    "\n",
    "import warnings\n",
    "warnings.filterwarnings('ignore')"
   ]
  },
  {
   "cell_type": "code",
   "execution_count": 2,
   "metadata": {
    "colab": {},
    "colab_type": "code",
    "id": "0zkWHuLILfg1"
   },
   "outputs": [],
   "source": [
    "data = pd.read_csv(\"parkinsons_2.csv\")"
   ]
  },
  {
   "cell_type": "code",
   "execution_count": 3,
   "metadata": {
    "colab": {
     "base_uri": "https://localhost:8080/",
     "height": 35
    },
    "colab_type": "code",
    "id": "UnTLkWsfLrJ-",
    "outputId": "20c3f641-5ea6-43ba-bdd7-9ad4f0d43689"
   },
   "outputs": [
    {
     "data": {
      "text/plain": [
       "pandas.core.frame.DataFrame"
      ]
     },
     "execution_count": 3,
     "metadata": {},
     "output_type": "execute_result"
    }
   ],
   "source": [
    "type(data)"
   ]
  },
  {
   "cell_type": "code",
   "execution_count": 4,
   "metadata": {
    "colab": {
     "base_uri": "https://localhost:8080/",
     "height": 35
    },
    "colab_type": "code",
    "id": "-BsKZUGGLudq",
    "outputId": "000151a0-cebf-48d1-d34e-969835d35a52"
   },
   "outputs": [
    {
     "data": {
      "text/plain": [
       "(195, 8)"
      ]
     },
     "execution_count": 4,
     "metadata": {},
     "output_type": "execute_result"
    }
   ],
   "source": [
    "data.shape"
   ]
  },
  {
   "cell_type": "code",
   "execution_count": 5,
   "metadata": {
    "colab": {
     "base_uri": "https://localhost:8080/",
     "height": 198
    },
    "colab_type": "code",
    "id": "1XomwEoZcd7h",
    "outputId": "2c607395-3bf5-4326-a2ef-3e07f3d38d39",
    "scrolled": true
   },
   "outputs": [
    {
     "data": {
      "text/html": [
       "<div>\n",
       "<style scoped>\n",
       "    .dataframe tbody tr th:only-of-type {\n",
       "        vertical-align: middle;\n",
       "    }\n",
       "\n",
       "    .dataframe tbody tr th {\n",
       "        vertical-align: top;\n",
       "    }\n",
       "\n",
       "    .dataframe thead th {\n",
       "        text-align: right;\n",
       "    }\n",
       "</style>\n",
       "<table border=\"1\" class=\"dataframe\">\n",
       "  <thead>\n",
       "    <tr style=\"text-align: right;\">\n",
       "      <th></th>\n",
       "      <th>MDVP:Fo(Hz)</th>\n",
       "      <th>MDVP:Fhi(Hz)</th>\n",
       "      <th>MDVP:Flo(Hz)</th>\n",
       "      <th>NHR</th>\n",
       "      <th>HNR</th>\n",
       "      <th>status</th>\n",
       "      <th>DFA</th>\n",
       "      <th>spread</th>\n",
       "    </tr>\n",
       "  </thead>\n",
       "  <tbody>\n",
       "    <tr>\n",
       "      <th>0</th>\n",
       "      <td>119.992</td>\n",
       "      <td>157.302</td>\n",
       "      <td>74.997</td>\n",
       "      <td>0.02211</td>\n",
       "      <td>21.033</td>\n",
       "      <td>1</td>\n",
       "      <td>0.815285</td>\n",
       "      <td>0.266482</td>\n",
       "    </tr>\n",
       "    <tr>\n",
       "      <th>1</th>\n",
       "      <td>122.400</td>\n",
       "      <td>148.650</td>\n",
       "      <td>113.819</td>\n",
       "      <td>0.01929</td>\n",
       "      <td>19.085</td>\n",
       "      <td>1</td>\n",
       "      <td>0.819521</td>\n",
       "      <td>0.335590</td>\n",
       "    </tr>\n",
       "    <tr>\n",
       "      <th>2</th>\n",
       "      <td>116.682</td>\n",
       "      <td>131.111</td>\n",
       "      <td>111.555</td>\n",
       "      <td>0.01309</td>\n",
       "      <td>20.651</td>\n",
       "      <td>1</td>\n",
       "      <td>0.825288</td>\n",
       "      <td>0.311173</td>\n",
       "    </tr>\n",
       "    <tr>\n",
       "      <th>3</th>\n",
       "      <td>116.676</td>\n",
       "      <td>137.871</td>\n",
       "      <td>111.366</td>\n",
       "      <td>0.01353</td>\n",
       "      <td>20.644</td>\n",
       "      <td>1</td>\n",
       "      <td>0.819235</td>\n",
       "      <td>0.334147</td>\n",
       "    </tr>\n",
       "    <tr>\n",
       "      <th>4</th>\n",
       "      <td>116.014</td>\n",
       "      <td>141.781</td>\n",
       "      <td>110.655</td>\n",
       "      <td>0.01767</td>\n",
       "      <td>19.649</td>\n",
       "      <td>1</td>\n",
       "      <td>0.823484</td>\n",
       "      <td>0.234513</td>\n",
       "    </tr>\n",
       "  </tbody>\n",
       "</table>\n",
       "</div>"
      ],
      "text/plain": [
       "   MDVP:Fo(Hz)  MDVP:Fhi(Hz)  MDVP:Flo(Hz)      NHR     HNR  status       DFA  \\\n",
       "0      119.992       157.302        74.997  0.02211  21.033       1  0.815285   \n",
       "1      122.400       148.650       113.819  0.01929  19.085       1  0.819521   \n",
       "2      116.682       131.111       111.555  0.01309  20.651       1  0.825288   \n",
       "3      116.676       137.871       111.366  0.01353  20.644       1  0.819235   \n",
       "4      116.014       141.781       110.655  0.01767  19.649       1  0.823484   \n",
       "\n",
       "     spread  \n",
       "0  0.266482  \n",
       "1  0.335590  \n",
       "2  0.311173  \n",
       "3  0.334147  \n",
       "4  0.234513  "
      ]
     },
     "execution_count": 5,
     "metadata": {},
     "output_type": "execute_result"
    }
   ],
   "source": [
    "data.head()"
   ]
  },
  {
   "cell_type": "code",
   "execution_count": 6,
   "metadata": {
    "colab": {
     "base_uri": "https://localhost:8080/",
     "height": 288
    },
    "colab_type": "code",
    "id": "3uk-b1pycmly",
    "outputId": "1fe98afb-3824-4103-8a84-90a3dd1232ba",
    "scrolled": true
   },
   "outputs": [
    {
     "data": {
      "text/html": [
       "<div>\n",
       "<style scoped>\n",
       "    .dataframe tbody tr th:only-of-type {\n",
       "        vertical-align: middle;\n",
       "    }\n",
       "\n",
       "    .dataframe tbody tr th {\n",
       "        vertical-align: top;\n",
       "    }\n",
       "\n",
       "    .dataframe thead th {\n",
       "        text-align: right;\n",
       "    }\n",
       "</style>\n",
       "<table border=\"1\" class=\"dataframe\">\n",
       "  <thead>\n",
       "    <tr style=\"text-align: right;\">\n",
       "      <th></th>\n",
       "      <th>MDVP:Fo(Hz)</th>\n",
       "      <th>MDVP:Fhi(Hz)</th>\n",
       "      <th>MDVP:Flo(Hz)</th>\n",
       "      <th>NHR</th>\n",
       "      <th>HNR</th>\n",
       "      <th>status</th>\n",
       "      <th>DFA</th>\n",
       "      <th>spread</th>\n",
       "    </tr>\n",
       "  </thead>\n",
       "  <tbody>\n",
       "    <tr>\n",
       "      <th>count</th>\n",
       "      <td>195.000000</td>\n",
       "      <td>195.000000</td>\n",
       "      <td>195.000000</td>\n",
       "      <td>195.000000</td>\n",
       "      <td>195.000000</td>\n",
       "      <td>195.000000</td>\n",
       "      <td>195.000000</td>\n",
       "      <td>195.000000</td>\n",
       "    </tr>\n",
       "    <tr>\n",
       "      <th>mean</th>\n",
       "      <td>154.228641</td>\n",
       "      <td>197.104918</td>\n",
       "      <td>116.324631</td>\n",
       "      <td>0.024847</td>\n",
       "      <td>21.885974</td>\n",
       "      <td>0.753846</td>\n",
       "      <td>0.718099</td>\n",
       "      <td>0.226510</td>\n",
       "    </tr>\n",
       "    <tr>\n",
       "      <th>std</th>\n",
       "      <td>41.390065</td>\n",
       "      <td>91.491548</td>\n",
       "      <td>43.521413</td>\n",
       "      <td>0.040418</td>\n",
       "      <td>4.425764</td>\n",
       "      <td>0.431878</td>\n",
       "      <td>0.055336</td>\n",
       "      <td>0.083406</td>\n",
       "    </tr>\n",
       "    <tr>\n",
       "      <th>min</th>\n",
       "      <td>88.333000</td>\n",
       "      <td>102.145000</td>\n",
       "      <td>65.476000</td>\n",
       "      <td>0.000650</td>\n",
       "      <td>8.441000</td>\n",
       "      <td>0.000000</td>\n",
       "      <td>0.574282</td>\n",
       "      <td>0.006274</td>\n",
       "    </tr>\n",
       "    <tr>\n",
       "      <th>25%</th>\n",
       "      <td>117.572000</td>\n",
       "      <td>134.862500</td>\n",
       "      <td>84.291000</td>\n",
       "      <td>0.005925</td>\n",
       "      <td>19.198000</td>\n",
       "      <td>1.000000</td>\n",
       "      <td>0.674758</td>\n",
       "      <td>0.174351</td>\n",
       "    </tr>\n",
       "    <tr>\n",
       "      <th>50%</th>\n",
       "      <td>148.790000</td>\n",
       "      <td>175.829000</td>\n",
       "      <td>104.315000</td>\n",
       "      <td>0.011660</td>\n",
       "      <td>22.085000</td>\n",
       "      <td>1.000000</td>\n",
       "      <td>0.722254</td>\n",
       "      <td>0.218885</td>\n",
       "    </tr>\n",
       "    <tr>\n",
       "      <th>75%</th>\n",
       "      <td>182.769000</td>\n",
       "      <td>224.205500</td>\n",
       "      <td>140.018500</td>\n",
       "      <td>0.025640</td>\n",
       "      <td>25.075500</td>\n",
       "      <td>1.000000</td>\n",
       "      <td>0.761881</td>\n",
       "      <td>0.279234</td>\n",
       "    </tr>\n",
       "    <tr>\n",
       "      <th>max</th>\n",
       "      <td>260.105000</td>\n",
       "      <td>592.030000</td>\n",
       "      <td>239.170000</td>\n",
       "      <td>0.314820</td>\n",
       "      <td>33.047000</td>\n",
       "      <td>1.000000</td>\n",
       "      <td>0.825288</td>\n",
       "      <td>0.450493</td>\n",
       "    </tr>\n",
       "  </tbody>\n",
       "</table>\n",
       "</div>"
      ],
      "text/plain": [
       "       MDVP:Fo(Hz)  MDVP:Fhi(Hz)  MDVP:Flo(Hz)         NHR         HNR  \\\n",
       "count   195.000000    195.000000    195.000000  195.000000  195.000000   \n",
       "mean    154.228641    197.104918    116.324631    0.024847   21.885974   \n",
       "std      41.390065     91.491548     43.521413    0.040418    4.425764   \n",
       "min      88.333000    102.145000     65.476000    0.000650    8.441000   \n",
       "25%     117.572000    134.862500     84.291000    0.005925   19.198000   \n",
       "50%     148.790000    175.829000    104.315000    0.011660   22.085000   \n",
       "75%     182.769000    224.205500    140.018500    0.025640   25.075500   \n",
       "max     260.105000    592.030000    239.170000    0.314820   33.047000   \n",
       "\n",
       "           status         DFA      spread  \n",
       "count  195.000000  195.000000  195.000000  \n",
       "mean     0.753846    0.718099    0.226510  \n",
       "std      0.431878    0.055336    0.083406  \n",
       "min      0.000000    0.574282    0.006274  \n",
       "25%      1.000000    0.674758    0.174351  \n",
       "50%      1.000000    0.722254    0.218885  \n",
       "75%      1.000000    0.761881    0.279234  \n",
       "max      1.000000    0.825288    0.450493  "
      ]
     },
     "execution_count": 6,
     "metadata": {},
     "output_type": "execute_result"
    }
   ],
   "source": [
    "data.describe()"
   ]
  },
  {
   "cell_type": "code",
   "execution_count": 7,
   "metadata": {
    "colab": {
     "base_uri": "https://localhost:8080/",
     "height": 363
    },
    "colab_type": "code",
    "id": "edurcSVbcq-M",
    "outputId": "d0c68eb0-fe12-4d96-ca28-52327c402fc9",
    "scrolled": false
   },
   "outputs": [
    {
     "name": "stdout",
     "output_type": "stream",
     "text": [
      "<class 'pandas.core.frame.DataFrame'>\n",
      "RangeIndex: 195 entries, 0 to 194\n",
      "Data columns (total 8 columns):\n",
      " #   Column        Non-Null Count  Dtype  \n",
      "---  ------        --------------  -----  \n",
      " 0   MDVP:Fo(Hz)   195 non-null    float64\n",
      " 1   MDVP:Fhi(Hz)  195 non-null    float64\n",
      " 2   MDVP:Flo(Hz)  195 non-null    float64\n",
      " 3   NHR           195 non-null    float64\n",
      " 4   HNR           195 non-null    float64\n",
      " 5   status        195 non-null    int64  \n",
      " 6   DFA           195 non-null    float64\n",
      " 7   spread        195 non-null    float64\n",
      "dtypes: float64(7), int64(1)\n",
      "memory usage: 12.3 KB\n"
     ]
    }
   ],
   "source": [
    "data.info()"
   ]
  },
  {
   "cell_type": "code",
   "execution_count": 8,
   "metadata": {
    "colab": {
     "base_uri": "https://localhost:8080/",
     "height": 198
    },
    "colab_type": "code",
    "id": "nGuJY-jlchCZ",
    "outputId": "038649f9-8916-4de1-c191-12a7da2af0be",
    "scrolled": true
   },
   "outputs": [
    {
     "data": {
      "text/html": [
       "<div>\n",
       "<style scoped>\n",
       "    .dataframe tbody tr th:only-of-type {\n",
       "        vertical-align: middle;\n",
       "    }\n",
       "\n",
       "    .dataframe tbody tr th {\n",
       "        vertical-align: top;\n",
       "    }\n",
       "\n",
       "    .dataframe thead th {\n",
       "        text-align: right;\n",
       "    }\n",
       "</style>\n",
       "<table border=\"1\" class=\"dataframe\">\n",
       "  <thead>\n",
       "    <tr style=\"text-align: right;\">\n",
       "      <th></th>\n",
       "      <th>MDVP:Fo(Hz)</th>\n",
       "      <th>MDVP:Fhi(Hz)</th>\n",
       "      <th>MDVP:Flo(Hz)</th>\n",
       "      <th>NHR</th>\n",
       "      <th>HNR</th>\n",
       "      <th>status</th>\n",
       "      <th>DFA</th>\n",
       "      <th>spread</th>\n",
       "    </tr>\n",
       "  </thead>\n",
       "  <tbody>\n",
       "    <tr>\n",
       "      <th>174</th>\n",
       "      <td>117.004</td>\n",
       "      <td>144.466</td>\n",
       "      <td>99.923</td>\n",
       "      <td>0.00590</td>\n",
       "      <td>25.445</td>\n",
       "      <td>0</td>\n",
       "      <td>0.756482</td>\n",
       "      <td>0.229298</td>\n",
       "    </tr>\n",
       "    <tr>\n",
       "      <th>136</th>\n",
       "      <td>113.400</td>\n",
       "      <td>133.344</td>\n",
       "      <td>107.816</td>\n",
       "      <td>0.02278</td>\n",
       "      <td>19.013</td>\n",
       "      <td>1</td>\n",
       "      <td>0.708144</td>\n",
       "      <td>0.300067</td>\n",
       "    </tr>\n",
       "    <tr>\n",
       "      <th>72</th>\n",
       "      <td>120.080</td>\n",
       "      <td>139.710</td>\n",
       "      <td>111.208</td>\n",
       "      <td>0.00442</td>\n",
       "      <td>25.742</td>\n",
       "      <td>1</td>\n",
       "      <td>0.762959</td>\n",
       "      <td>0.329066</td>\n",
       "    </tr>\n",
       "    <tr>\n",
       "      <th>150</th>\n",
       "      <td>186.695</td>\n",
       "      <td>211.961</td>\n",
       "      <td>149.442</td>\n",
       "      <td>0.10952</td>\n",
       "      <td>12.529</td>\n",
       "      <td>1</td>\n",
       "      <td>0.762726</td>\n",
       "      <td>0.340256</td>\n",
       "    </tr>\n",
       "    <tr>\n",
       "      <th>163</th>\n",
       "      <td>112.150</td>\n",
       "      <td>131.669</td>\n",
       "      <td>97.527</td>\n",
       "      <td>0.01435</td>\n",
       "      <td>21.219</td>\n",
       "      <td>1</td>\n",
       "      <td>0.673086</td>\n",
       "      <td>0.184896</td>\n",
       "    </tr>\n",
       "  </tbody>\n",
       "</table>\n",
       "</div>"
      ],
      "text/plain": [
       "     MDVP:Fo(Hz)  MDVP:Fhi(Hz)  MDVP:Flo(Hz)      NHR     HNR  status  \\\n",
       "174      117.004       144.466        99.923  0.00590  25.445       0   \n",
       "136      113.400       133.344       107.816  0.02278  19.013       1   \n",
       "72       120.080       139.710       111.208  0.00442  25.742       1   \n",
       "150      186.695       211.961       149.442  0.10952  12.529       1   \n",
       "163      112.150       131.669        97.527  0.01435  21.219       1   \n",
       "\n",
       "          DFA    spread  \n",
       "174  0.756482  0.229298  \n",
       "136  0.708144  0.300067  \n",
       "72   0.762959  0.329066  \n",
       "150  0.762726  0.340256  \n",
       "163  0.673086  0.184896  "
      ]
     },
     "execution_count": 8,
     "metadata": {},
     "output_type": "execute_result"
    }
   ],
   "source": [
    "data.sample(5)"
   ]
  },
  {
   "cell_type": "code",
   "execution_count": 9,
   "metadata": {
    "colab": {
     "base_uri": "https://localhost:8080/",
     "height": 290
    },
    "colab_type": "code",
    "id": "FMZFX88kTSmA",
    "outputId": "57c313e1-66a3-4354-a8c8-7eda82fbc3e2",
    "scrolled": false
   },
   "outputs": [
    {
     "data": {
      "text/plain": [
       "MDVP:Fo(Hz)     0\n",
       "MDVP:Fhi(Hz)    0\n",
       "MDVP:Flo(Hz)    0\n",
       "NHR             0\n",
       "HNR             0\n",
       "status          0\n",
       "DFA             0\n",
       "spread          0\n",
       "dtype: int64"
      ]
     },
     "execution_count": 9,
     "metadata": {},
     "output_type": "execute_result"
    }
   ],
   "source": [
    "data.isnull().sum()"
   ]
  },
  {
   "cell_type": "code",
   "execution_count": 10,
   "metadata": {
    "colab": {
     "base_uri": "https://localhost:8080/",
     "height": 290
    },
    "colab_type": "code",
    "id": "Gul7tFpt6BjO",
    "outputId": "5b315596-60fd-4aed-84cf-8c9fd8bb6f57"
   },
   "outputs": [
    {
     "name": "stdout",
     "output_type": "stream",
     "text": [
      "status          1.000000\n",
      "spread          0.454842\n",
      "MDVP:Fo(Hz)     0.383535\n",
      "MDVP:Flo(Hz)    0.380200\n",
      "HNR             0.361515\n",
      "DFA             0.231739\n",
      "NHR             0.189429\n",
      "MDVP:Fhi(Hz)    0.166136\n",
      "Name: status, dtype: float64\n"
     ]
    }
   ],
   "source": [
    "print(data.corr()[\"status\"].abs().sort_values(ascending=False))"
   ]
  },
  {
   "cell_type": "markdown",
   "metadata": {
    "colab_type": "text",
    "id": "Gs9wS_M1MDor"
   },
   "source": [
    "# Exploratory Data Analysis (EDA)"
   ]
  },
  {
   "cell_type": "code",
   "execution_count": 11,
   "metadata": {
    "colab": {},
    "colab_type": "code",
    "id": "aRMA2Y4BtckT"
   },
   "outputs": [],
   "source": [
    "y = data[\"status\"]"
   ]
  },
  {
   "cell_type": "code",
   "execution_count": 12,
   "metadata": {
    "colab": {
     "base_uri": "https://localhost:8080/",
     "height": 342
    },
    "colab_type": "code",
    "id": "01juOnzfvx_O",
    "outputId": "6f4d7fef-ff0c-41c4-be95-ec2e3f47c2ca"
   },
   "outputs": [
    {
     "name": "stdout",
     "output_type": "stream",
     "text": [
      "1    147\n",
      "0     48\n",
      "Name: status, dtype: int64\n"
     ]
    },
    {
     "data": {
      "image/png": "[encoded data removed]",
      "text/plain": [
       "<Figure size 640x480 with 1 Axes>"
      ]
     },
     "metadata": {},
     "output_type": "display_data"
    }
   ],
   "source": [
    "ax = sns.countplot(data[\"status\"])\n",
    "target_temp = data.status.value_counts()\n",
    "print(target_temp)"
   ]
  },
  {
   "cell_type": "code",
   "execution_count": 13,
   "metadata": {
    "colab": {
     "base_uri": "https://localhost:8080/",
     "height": 54
    },
    "colab_type": "code",
    "id": "LeamFmYQMS62",
    "outputId": "d8095199-1ef6-4747-b12f-7848f106b62b",
    "scrolled": false
   },
   "outputs": [
    {
     "name": "stdout",
     "output_type": "stream",
     "text": [
      "Percentage of patience without parkinsons problems: 15.84\n",
      "Percentage of patience with parkinsons problems: 48.51\n"
     ]
    }
   ],
   "source": [
    "print(\"Percentage of patience without parkinsons problems: \"+str(round(target_temp[0]*100/303,2)))\n",
    "print(\"Percentage of patience with parkinsons problems: \"+str(round(target_temp[1]*100/303,2)))"
   ]
  },
  {
   "cell_type": "code",
   "execution_count": 14,
   "metadata": {},
   "outputs": [
    {
     "name": "stdout",
     "output_type": "stream",
     "text": [
      "Training features have 156 records and Testing features have 39 records.\n"
     ]
    }
   ],
   "source": [
    "from sklearn.model_selection import train_test_split\n",
    "\n",
    "predictors = data.drop([\"status\"],axis=1)\n",
    "target = data[\"status\"]\n",
    "\n",
    "X_train,X_test,Y_train,Y_test = train_test_split(predictors,target,test_size=0.20,random_state=2)\n",
    "print(\"Training features have {0} records and Testing features have {1} records.\".\\\n",
    "      format(X_train.shape[0], X_test.shape[0]))"
   ]
  },
  {
   "cell_type": "markdown",
   "metadata": {
    "colab_type": "text",
    "id": "eCiVyyhcCxZ9"
   },
   "source": [
    "### Here 0 is female and 1 is male patients"
   ]
  },
  {
   "cell_type": "code",
   "execution_count": 15,
   "metadata": {
    "colab": {
     "base_uri": "https://localhost:8080/",
     "height": 34
    },
    "colab_type": "code",
    "id": "7YwomHgBMtZt",
    "outputId": "9d09fc99-ddc3-4cd5-92ae-cd72566389d8"
   },
   "outputs": [
    {
     "data": {
      "text/plain": [
       "(156, 7)"
      ]
     },
     "execution_count": 15,
     "metadata": {},
     "output_type": "execute_result"
    }
   ],
   "source": [
    "X_train.shape"
   ]
  },
  {
   "cell_type": "code",
   "execution_count": 16,
   "metadata": {
    "colab": {
     "base_uri": "https://localhost:8080/",
     "height": 34
    },
    "colab_type": "code",
    "id": "cR7VVOQUMyck",
    "outputId": "38da4e50-ce00-44d5-d675-2980e88deeac"
   },
   "outputs": [
    {
     "data": {
      "text/plain": [
       "(39, 7)"
      ]
     },
     "execution_count": 16,
     "metadata": {},
     "output_type": "execute_result"
    }
   ],
   "source": [
    "X_test.shape"
   ]
  },
  {
   "cell_type": "code",
   "execution_count": 17,
   "metadata": {
    "colab": {
     "base_uri": "https://localhost:8080/",
     "height": 34
    },
    "colab_type": "code",
    "id": "jkMdNviWM1Mx",
    "outputId": "4fa61b95-81b1-4e3e-c109-47d1874e2fe2"
   },
   "outputs": [
    {
     "data": {
      "text/plain": [
       "(156,)"
      ]
     },
     "execution_count": 17,
     "metadata": {},
     "output_type": "execute_result"
    }
   ],
   "source": [
    "Y_train.shape"
   ]
  },
  {
   "cell_type": "code",
   "execution_count": 18,
   "metadata": {
    "colab": {
     "base_uri": "https://localhost:8080/",
     "height": 34
    },
    "colab_type": "code",
    "id": "w4AmfZuKM6ZL",
    "outputId": "add6a9ce-ef83-4c86-f658-d3a754919948"
   },
   "outputs": [
    {
     "data": {
      "text/plain": [
       "(39,)"
      ]
     },
     "execution_count": 18,
     "metadata": {},
     "output_type": "execute_result"
    }
   ],
   "source": [
    "Y_test.shape"
   ]
  },
  {
   "cell_type": "markdown",
   "metadata": {
    "colab_type": "text",
    "id": "i7W7vtpQM-c-"
   },
   "source": [
    "## importing Accuracy score"
   ]
  },
  {
   "cell_type": "code",
   "execution_count": 19,
   "metadata": {
    "colab": {},
    "colab_type": "code",
    "id": "KosuqmCiNBmI"
   },
   "outputs": [],
   "source": [
    "from sklearn.metrics import accuracy_score"
   ]
  },
  {
   "cell_type": "markdown",
   "metadata": {
    "colab_type": "text",
    "id": "mSbSrhl1Cu4g"
   },
   "source": [
    "# Modelling and predicting with Machine Learning\n",
    "The main goal of the entire project is to predict heart disease occurrence with the highest accuracy. In order to achieve this, we will test several classification algorithms. This section includes all results obtained from the study and introduces the best performer according to accuracy metric. I have chosen several algorithms typical for solving supervised learning problems throughout classification methods.\n",
    "\n",
    "First of all, let's equip ourselves with a handy tool that benefits from the cohesion of SciKit Learn library and formulate a general function for training our models. The reason for displaying accuracy on both, train and test sets, is to allow us to evaluate whether the model overfits or underfits the data (so-called bias/variance tradeoff)."
   ]
  },
  {
   "cell_type": "code",
   "execution_count": 20,
   "metadata": {
    "colab": {},
    "colab_type": "code",
    "id": "Dzm0sQlVCioN"
   },
   "outputs": [],
   "source": [
    "def train_model(X_train, y_train, X_test, y_test, classifier, **kwargs):\n",
    "    \n",
    "    \"\"\"\n",
    "    Fit the chosen model and print out the score.\n",
    "    \n",
    "    \"\"\"\n",
    "    \n",
    "    # instantiate model\n",
    "    model = classifier(**kwargs)\n",
    "    \n",
    "    # train model\n",
    "    model.fit(X_train,y_train)\n",
    "    \n",
    "    # check accuracy and print out the results\n",
    "    fit_accuracy = model.score(X_train, y_train)\n",
    "    test_accuracy = model.score(X_test, y_test)\n",
    "    \n",
    "    print(f\"Train accuracy: {fit_accuracy:0.2%}\")\n",
    "    print(f\"Test accuracy: {test_accuracy:0.2%}\")\n",
    "    \n",
    "    return model"
   ]
  },
  {
   "cell_type": "markdown",
   "metadata": {
    "colab_type": "text",
    "id": "KsVRQL0zNEJg"
   },
   "source": [
    "# Logistic regression"
   ]
  },
  {
   "cell_type": "code",
   "execution_count": 21,
   "metadata": {
    "colab": {
     "base_uri": "https://localhost:8080/",
     "height": 51
    },
    "colab_type": "code",
    "id": "yh90fu-UA9Yh",
    "outputId": "db8d2ed0-1d5f-46ac-c8d6-4a1e89f68aee"
   },
   "outputs": [
    {
     "name": "stdout",
     "output_type": "stream",
     "text": [
      "[1 1 1 1 1 1 0 1 1 1 1 1 1 1 1 1 1 0 1 1 0 1 1 1 0 1 1 1 1 1 1 1 1 1 1 1 0\n",
      " 1 1]\n"
     ]
    }
   ],
   "source": [
    "from sklearn.linear_model import LogisticRegression\n",
    "logreg = LogisticRegression()\n",
    "\n",
    "logreg.fit(X_train, Y_train)\n",
    "\n",
    "y_pred_lr = logreg.predict(X_test)\n",
    "print(y_pred_lr)"
   ]
  },
  {
   "cell_type": "markdown",
   "metadata": {
    "colab_type": "text",
    "id": "i0G1DmAymUtz"
   },
   "source": []
  },
  {
   "cell_type": "code",
   "execution_count": 22,
   "metadata": {
    "colab": {
     "base_uri": "https://localhost:8080/",
     "height": 34
    },
    "colab_type": "code",
    "id": "y47nyuX_Ir_Y",
    "outputId": "0fc0bdae-a43e-464d-f894-1d881cda34cb"
   },
   "outputs": [
    {
     "name": "stdout",
     "output_type": "stream",
     "text": [
      "The accuracy score achieved using Logistic Regression is: 82.05 %\n"
     ]
    }
   ],
   "source": [
    "score_lr = round(accuracy_score(y_pred_lr,Y_test)*100,2)\n",
    "\n",
    "print(\"The accuracy score achieved using Logistic Regression is: \"+str(score_lr)+\" %\")"
   ]
  },
  {
   "cell_type": "code",
   "execution_count": 23,
   "metadata": {
    "colab": {
     "base_uri": "https://localhost:8080/",
     "height": 221
    },
    "colab_type": "code",
    "id": "sYfHyi1BCtrd",
    "outputId": "fe47287c-c772-4710-a6e4-adfe3043e854"
   },
   "outputs": [
    {
     "name": "stdout",
     "output_type": "stream",
     "text": [
      "[[ 3  5]\n",
      " [ 2 29]]\n",
      "              precision    recall  f1-score   support\n",
      "\n",
      "           0       0.60      0.38      0.46         8\n",
      "           1       0.85      0.94      0.89        31\n",
      "\n",
      "    accuracy                           0.82        39\n",
      "   macro avg       0.73      0.66      0.68        39\n",
      "weighted avg       0.80      0.82      0.80        39\n",
      "\n",
      "Accuracy: 0.8205128205128205\n"
     ]
    }
   ],
   "source": [
    "from sklearn.metrics import confusion_matrix\n",
    "from sklearn.metrics import classification_report\n",
    "print(confusion_matrix(Y_test,y_pred_lr))\n",
    "print(classification_report(Y_test,y_pred_lr))\n",
    "print(\"Accuracy:\",accuracy_score(Y_test, y_pred_lr))"
   ]
  },
  {
   "cell_type": "code",
   "execution_count": 24,
   "metadata": {
    "colab": {
     "base_uri": "https://localhost:8080/",
     "height": 51
    },
    "colab_type": "code",
    "id": "X9ylml9-CUAB",
    "outputId": "334961ef-3933-4cb9-b56d-43e23af23234"
   },
   "outputs": [
    {
     "name": "stdout",
     "output_type": "stream",
     "text": [
      "Train accuracy: 81.41%\n",
      "Test accuracy: 82.05%\n"
     ]
    }
   ],
   "source": [
    "# Logistic Regression\n",
    "from sklearn.linear_model import LogisticRegression\n",
    "model = train_model(X_train, Y_train, X_test, Y_test, LogisticRegression)"
   ]
  },
  {
   "cell_type": "markdown",
   "metadata": {},
   "source": [
    "Best ACCURACY possible using Logistic regression"
   ]
  },
  {
   "cell_type": "code",
   "execution_count": 25,
   "metadata": {
    "colab": {
     "base_uri": "https://localhost:8080/",
     "height": 34
    },
    "colab_type": "code",
    "id": "CSOnNafe8ZHc",
    "outputId": "09a785c1-9f52-47fd-e9e1-a8abc7722028"
   },
   "outputs": [
    {
     "data": {
      "text/plain": [
       "0.8461538461538461"
      ]
     },
     "execution_count": 25,
     "metadata": {},
     "output_type": "execute_result"
    }
   ],
   "source": [
    "#Logistic Regression supports only solvers in ['liblinear', 'newton-cg'<-93.44, 'lbfgs'<-91.8, 'sag'<-72.13, 'saga'<-72.13]\n",
    "clf = LogisticRegression(random_state=0, solver='newton-cg').fit(X_test, Y_test)\n",
    "#The solver for weight optimization.\n",
    "#'lbfgs' is an optimizer in the family of quasi-Newton methods.\n",
    "clf.score(X_test, Y_test)"
   ]
  },
  {
   "cell_type": "markdown",
   "metadata": {
    "colab_type": "text",
    "id": "LgNk2g4ucxpZ"
   },
   "source": [
    "# Confusion Matrix"
   ]
  },
  {
   "cell_type": "code",
   "execution_count": 26,
   "metadata": {
    "colab": {},
    "colab_type": "code",
    "id": "dzmuccx3bwhm"
   },
   "outputs": [],
   "source": [
    "from sklearn.metrics import confusion_matrix"
   ]
  },
  {
   "cell_type": "code",
   "execution_count": 27,
   "metadata": {
    "colab": {},
    "colab_type": "code",
    "id": "VzbqA7IZby55"
   },
   "outputs": [],
   "source": [
    "matrix= confusion_matrix(Y_test, y_pred_lr)"
   ]
  },
  {
   "cell_type": "code",
   "execution_count": 28,
   "metadata": {
    "colab": {
     "base_uri": "https://localhost:8080/",
     "height": 291
    },
    "colab_type": "code",
    "id": "NqelNWNGcIEB",
    "outputId": "9aa4b1ea-9567-495a-a125-7f91842c022d"
   },
   "outputs": [
    {
     "data": {
      "text/plain": [
       "<Axes: >"
      ]
     },
     "execution_count": 28,
     "metadata": {},
     "output_type": "execute_result"
    },
    {
     "data": {
      "image/png": "[encoded data removed]",
      "text/plain": [
       "<Figure size 640x480 with 2 Axes>"
      ]
     },
     "metadata": {},
     "output_type": "display_data"
    }
   ],
   "source": [
    "sns.heatmap(matrix,annot = True, fmt = \"d\")"
   ]
  },
  {
   "cell_type": "markdown",
   "metadata": {
    "colab_type": "text",
    "id": "oZngK95wAyg0"
   },
   "source": [
    "fmt = d is format = default"
   ]
  },
  {
   "cell_type": "markdown",
   "metadata": {
    "colab_type": "text",
    "id": "ePduVPbAc121"
   },
   "source": [
    "# precision Score"
   ]
  },
  {
   "cell_type": "code",
   "execution_count": 29,
   "metadata": {
    "colab": {},
    "colab_type": "code",
    "id": "CaqOPg0vcQbt"
   },
   "outputs": [],
   "source": [
    "from sklearn.metrics import precision_score"
   ]
  },
  {
   "cell_type": "code",
   "execution_count": 30,
   "metadata": {
    "colab": {},
    "colab_type": "code",
    "id": "uLyL4HLZcTOr"
   },
   "outputs": [],
   "source": [
    "precision = precision_score(Y_test, y_pred_lr)"
   ]
  },
  {
   "cell_type": "code",
   "execution_count": 31,
   "metadata": {
    "colab": {
     "base_uri": "https://localhost:8080/",
     "height": 34
    },
    "colab_type": "code",
    "id": "1n0pPR7mcbkh",
    "outputId": "105c0c10-cf64-4961-b80c-b480549f20fd"
   },
   "outputs": [
    {
     "name": "stdout",
     "output_type": "stream",
     "text": [
      "Precision:  0.8529411764705882\n"
     ]
    }
   ],
   "source": [
    "print(\"Precision: \",precision)"
   ]
  },
  {
   "cell_type": "markdown",
   "metadata": {
    "colab_type": "text",
    "id": "cRdsUQo_c3_a"
   },
   "source": [
    "# Recall"
   ]
  },
  {
   "cell_type": "code",
   "execution_count": 32,
   "metadata": {
    "colab": {},
    "colab_type": "code",
    "id": "4rClRAnAce_W"
   },
   "outputs": [],
   "source": [
    "from sklearn.metrics import recall_score"
   ]
  },
  {
   "cell_type": "code",
   "execution_count": 33,
   "metadata": {
    "colab": {},
    "colab_type": "code",
    "id": "BX_0uOdBchFl"
   },
   "outputs": [],
   "source": [
    "recall = recall_score(Y_test, y_pred_lr)"
   ]
  },
  {
   "cell_type": "code",
   "execution_count": 34,
   "metadata": {
    "colab": {
     "base_uri": "https://localhost:8080/",
     "height": 34
    },
    "colab_type": "code",
    "id": "Wg-a7JkGcn3I",
    "outputId": "66914d75-25d2-4ca6-d920-222f5734ac86"
   },
   "outputs": [
    {
     "name": "stdout",
     "output_type": "stream",
     "text": [
      "Recall is:  0.9354838709677419\n"
     ]
    }
   ],
   "source": [
    "print(\"Recall is: \",recall)"
   ]
  },
  {
   "cell_type": "markdown",
   "metadata": {
    "colab_type": "text",
    "id": "hYs0L1jrd-BV"
   },
   "source": [
    "# F-Score"
   ]
  },
  {
   "cell_type": "markdown",
   "metadata": {
    "colab_type": "text",
    "id": "g0Q-KN7peBE2"
   },
   "source": [
    "balance of precision and recall score"
   ]
  },
  {
   "cell_type": "code",
   "execution_count": 35,
   "metadata": {
    "colab": {
     "base_uri": "https://localhost:8080/",
     "height": 34
    },
    "colab_type": "code",
    "id": "lNxT6i8EdwWd",
    "outputId": "930a6fa6-d223-42e7-89a0-612cdaed9d9d"
   },
   "outputs": [
    {
     "name": "stdout",
     "output_type": "stream",
     "text": [
      "0.8923076923076922\n"
     ]
    }
   ],
   "source": [
    "print((2*precision*recall)/(precision+recall))"
   ]
  },
  {
   "cell_type": "markdown",
   "metadata": {
    "colab_type": "text",
    "id": "1ENOfXwaCsE7"
   },
   "source": [
    "performance metrics\n",
    "-Accuracy: is the ratio between the number of correct predictions and total number of predications.\n",
    "\n",
    "$acc = \\frac{TP + TN}{TP + TN + FP + FN}$\n",
    "\n",
    "-Precision: is the ratio between the number of correct positives and the number of true positives plus the number of false positives.\n",
    "\n",
    "$Precision (p) = \\frac{TP}{TP + FP}$\n",
    "\n",
    "-Recall: is the ratio between the number of correct positives and the number of true positives plus the number of false negatives.\n",
    "\n",
    "$recall = \\frac{TP}{TP + FN}$\n",
    "\n",
    "-F-score: is known as the harmonic mean of precision and recall.\n",
    "\n",
    "$acc = \\frac{1}{\\frac{1}{2}(\\frac{1}{p}+\\frac{1}{r})} = \\frac{2pr}{p+r}$\n",
    "\n",
    "-Problem characteristics in context of our case study:\n",
    "\n",
    "TP = True positive (has heart disease). TN = True negative (has no heart disease). FP = False positive (has no heart disease) FN = False negative (has heart disease)"
   ]
  },
  {
   "cell_type": "markdown",
   "metadata": {
    "colab_type": "text",
    "id": "itvCy6g1OIKT"
   },
   "source": [
    "# Naive Bayes"
   ]
  },
  {
   "cell_type": "code",
   "execution_count": 36,
   "metadata": {
    "colab": {
     "base_uri": "https://localhost:8080/",
     "height": 85
    },
    "colab_type": "code",
    "id": "5eOCJUqzENDJ",
    "outputId": "961ae73d-2008-4c81-bbb5-8f4b9298aaec"
   },
   "outputs": [
    {
     "name": "stdout",
     "output_type": "stream",
     "text": [
      "Train accuracy: 80.77%\n",
      "Test accuracy: 74.36%\n",
      "[1 1 1 1 1 1 0 1 1 1 0 0 0 1 1 1 1 1 1 1 0 0 1 1 0 1 1 1 1 1 1 1 1 0 1 0 0\n",
      " 1 1]\n"
     ]
    }
   ],
   "source": [
    "from sklearn.naive_bayes import GaussianNB\n",
    "nb = train_model(X_train, Y_train, X_test, Y_test, GaussianNB)\n",
    "\n",
    "nb.fit(X_train, Y_train)\n",
    "\n",
    "y_pred_nb = nb.predict(X_test)\n",
    "print(y_pred_nb)"
   ]
  },
  {
   "cell_type": "code",
   "execution_count": 37,
   "metadata": {
    "colab": {
     "base_uri": "https://localhost:8080/",
     "height": 34
    },
    "colab_type": "code",
    "id": "67AAufzLHPOL",
    "outputId": "1f6875fd-30ae-43b4-867d-c150b74ca8b8"
   },
   "outputs": [
    {
     "name": "stdout",
     "output_type": "stream",
     "text": [
      "The accuracy score achieved using Naive Bayes is: 74.36 %\n"
     ]
    }
   ],
   "source": [
    "score_nb = round(accuracy_score(y_pred_nb,Y_test)*100,2)\n",
    "\n",
    "print(\"The accuracy score achieved using Naive Bayes is: \"+str(score_nb)+\" %\")"
   ]
  },
  {
   "cell_type": "code",
   "execution_count": 38,
   "metadata": {
    "colab": {
     "base_uri": "https://localhost:8080/",
     "height": 51
    },
    "colab_type": "code",
    "id": "cwzHsID5IjZX",
    "outputId": "e2fac68e-4900-4c75-b79a-9dfaca8e1115"
   },
   "outputs": [
    {
     "name": "stdout",
     "output_type": "stream",
     "text": [
      "Train accuracy: 80.77%\n",
      "Test accuracy: 74.36%\n"
     ]
    }
   ],
   "source": [
    "#Gaussian Naive Bayes\n",
    "from sklearn.naive_bayes import GaussianNB\n",
    "model = train_model(X_train, Y_train, X_test, Y_test, GaussianNB)"
   ]
  },
  {
   "cell_type": "markdown",
   "metadata": {
    "colab_type": "text",
    "id": "sR27vJmiNXOA"
   },
   "source": [
    "## confusion matrix of Naive Bayes"
   ]
  },
  {
   "cell_type": "code",
   "execution_count": 39,
   "metadata": {
    "colab": {},
    "colab_type": "code",
    "id": "GneNyLpXDAtB"
   },
   "outputs": [],
   "source": [
    "from sklearn.metrics import confusion_matrix"
   ]
  },
  {
   "cell_type": "code",
   "execution_count": 40,
   "metadata": {
    "colab": {},
    "colab_type": "code",
    "id": "QgcyDOdyDED1"
   },
   "outputs": [],
   "source": [
    "matrix= confusion_matrix(Y_test, y_pred_nb)"
   ]
  },
  {
   "cell_type": "code",
   "execution_count": 41,
   "metadata": {
    "colab": {
     "base_uri": "https://localhost:8080/",
     "height": 291
    },
    "colab_type": "code",
    "id": "m6thjv_fDJMx",
    "outputId": "648f3f55-58b9-4dd3-f3ea-ab622d911571"
   },
   "outputs": [
    {
     "data": {
      "text/plain": [
       "<Axes: >"
      ]
     },
     "execution_count": 41,
     "metadata": {},
     "output_type": "execute_result"
    },
    {
     "data": {
      "image/png": "[encoded data removed]",
      "text/plain": [
       "<Figure size 640x480 with 2 Axes>"
      ]
     },
     "metadata": {},
     "output_type": "display_data"
    }
   ],
   "source": [
    "sns.heatmap(matrix,annot = True, fmt = \"d\")"
   ]
  },
  {
   "cell_type": "markdown",
   "metadata": {
    "colab_type": "text",
    "id": "X_8G3xnlDPWS"
   },
   "source": [
    "# precision score"
   ]
  },
  {
   "cell_type": "code",
   "execution_count": 42,
   "metadata": {
    "colab": {},
    "colab_type": "code",
    "id": "LUJOT1f5DTgL"
   },
   "outputs": [],
   "source": [
    "from sklearn.metrics import precision_score"
   ]
  },
  {
   "cell_type": "code",
   "execution_count": 43,
   "metadata": {
    "colab": {},
    "colab_type": "code",
    "id": "ce6CbHpjDV9s"
   },
   "outputs": [],
   "source": [
    "precision = precision_score(Y_test, y_pred_nb)"
   ]
  },
  {
   "cell_type": "code",
   "execution_count": 44,
   "metadata": {
    "colab": {
     "base_uri": "https://localhost:8080/",
     "height": 34
    },
    "colab_type": "code",
    "id": "-F_ck5N0DZSQ",
    "outputId": "63711fcf-e305-497b-b277-1ee6b9a80f44"
   },
   "outputs": [
    {
     "name": "stdout",
     "output_type": "stream",
     "text": [
      "Precision:  0.8620689655172413\n"
     ]
    }
   ],
   "source": [
    "print(\"Precision: \",precision)"
   ]
  },
  {
   "cell_type": "markdown",
   "metadata": {
    "colab_type": "text",
    "id": "B4LEb3dlDbmE"
   },
   "source": [
    "# recall"
   ]
  },
  {
   "cell_type": "code",
   "execution_count": 45,
   "metadata": {
    "colab": {},
    "colab_type": "code",
    "id": "l7SopfRSDdHe"
   },
   "outputs": [],
   "source": [
    "from sklearn.metrics import recall_score"
   ]
  },
  {
   "cell_type": "code",
   "execution_count": 46,
   "metadata": {
    "colab": {},
    "colab_type": "code",
    "id": "FfS8d7rfDfhj"
   },
   "outputs": [],
   "source": [
    "recall = recall_score(Y_test, y_pred_nb)"
   ]
  },
  {
   "cell_type": "code",
   "execution_count": 47,
   "metadata": {
    "colab": {
     "base_uri": "https://localhost:8080/",
     "height": 34
    },
    "colab_type": "code",
    "id": "FvYOwsvBDjZz",
    "outputId": "6dbdb989-4f88-4b83-bd26-12d3577aa13f"
   },
   "outputs": [
    {
     "name": "stdout",
     "output_type": "stream",
     "text": [
      "Recall is:  0.8064516129032258\n"
     ]
    }
   ],
   "source": [
    "print(\"Recall is: \",recall)"
   ]
  },
  {
   "cell_type": "markdown",
   "metadata": {
    "colab_type": "text",
    "id": "32gdqAxxDldW"
   },
   "source": [
    "# f score"
   ]
  },
  {
   "cell_type": "code",
   "execution_count": 48,
   "metadata": {
    "colab": {
     "base_uri": "https://localhost:8080/",
     "height": 34
    },
    "colab_type": "code",
    "id": "Y3M1xy0MDnJG",
    "outputId": "3e5a6f13-ba40-4e71-de6b-a93db03b4519"
   },
   "outputs": [
    {
     "name": "stdout",
     "output_type": "stream",
     "text": [
      "0.8333333333333334\n"
     ]
    }
   ],
   "source": [
    "print((2*precision*recall)/(precision+recall))"
   ]
  },
  {
   "cell_type": "markdown",
   "metadata": {
    "colab_type": "text",
    "id": "ovHec9BDOeWS"
   },
   "source": [
    "# KNN(K Nearest Neighbors)"
   ]
  },
  {
   "cell_type": "code",
   "execution_count": 49,
   "metadata": {
    "colab": {
     "base_uri": "https://localhost:8080/",
     "height": 85
    },
    "colab_type": "code",
    "id": "V7NEmyXmExRt",
    "outputId": "97647a30-0c73-4344-90ac-9ea895f7dffb"
   },
   "outputs": [
    {
     "name": "stdout",
     "output_type": "stream",
     "text": [
      "Train accuracy: 86.54%\n",
      "Test accuracy: 79.49%\n",
      "[1 1 1 1 1 0 0 1 1 1 1 0 1 1 0 1 1 0 1 1 1 0 1 1 0 1 1 1 1 1 1 1 1 0 1 0 0\n",
      " 1 1]\n"
     ]
    }
   ],
   "source": [
    "from sklearn.neighbors import KNeighborsClassifier\n",
    "knn = train_model(X_train, Y_train, X_test, Y_test, KNeighborsClassifier, n_neighbors=8)\n",
    "\n",
    "knn.fit(X_train, Y_train)\n",
    "\n",
    "y_pred_knn = knn.predict(X_test)\n",
    "print(y_pred_knn)"
   ]
  },
  {
   "cell_type": "code",
   "execution_count": 50,
   "metadata": {
    "colab": {
     "base_uri": "https://localhost:8080/",
     "height": 34
    },
    "colab_type": "code",
    "id": "pxxu1NlmHHJf",
    "outputId": "cc456c67-0e77-4d2f-975a-81cae3518573"
   },
   "outputs": [
    {
     "name": "stdout",
     "output_type": "stream",
     "text": [
      "The accuracy score achieved using KNN is: 79.49 %\n"
     ]
    }
   ],
   "source": [
    "score_knn = round(accuracy_score(y_pred_knn,Y_test)*100,2)\n",
    "\n",
    "print(\"The accuracy score achieved using KNN is: \"+str(score_knn)+\" %\")"
   ]
  },
  {
   "cell_type": "code",
   "execution_count": 51,
   "metadata": {
    "colab": {
     "base_uri": "https://localhost:8080/",
     "height": 51
    },
    "colab_type": "code",
    "id": "yuPzNulkFDYQ",
    "outputId": "db63d57c-3014-44b0-a327-b7e275ba43fd"
   },
   "outputs": [
    {
     "name": "stdout",
     "output_type": "stream",
     "text": [
      "Train accuracy: 87.18%\n",
      "Test accuracy: 74.36%\n"
     ]
    }
   ],
   "source": [
    "# KNN\n",
    "from sklearn.neighbors import KNeighborsClassifier\n",
    "model = train_model(X_train, Y_train, X_test, Y_test, KNeighborsClassifier)"
   ]
  },
  {
   "cell_type": "markdown",
   "metadata": {
    "colab_type": "text",
    "id": "kySR0O7PFK6J"
   },
   "source": [
    "Let's see if KNN can perform even better by trying different 'n_neighbours' inputs."
   ]
  },
  {
   "cell_type": "code",
   "execution_count": 52,
   "metadata": {
    "colab": {
     "base_uri": "https://localhost:8080/",
     "height": 476
    },
    "colab_type": "code",
    "id": "nAqx0aWkFL10",
    "outputId": "09c3ec29-7b25-463b-b0cc-0af7ff999fbc"
   },
   "outputs": [
    {
     "name": "stdout",
     "output_type": "stream",
     "text": [
      "n_neigbors = 1\n",
      "Train accuracy: 100.00%\n",
      "Test accuracy: 84.62%\n",
      "n_neigbors = 2\n",
      "Train accuracy: 91.03%\n",
      "Test accuracy: 74.36%\n",
      "n_neigbors = 3\n",
      "Train accuracy: 91.67%\n",
      "Test accuracy: 76.92%\n",
      "n_neigbors = 4\n",
      "Train accuracy: 89.10%\n",
      "Test accuracy: 74.36%\n",
      "n_neigbors = 5\n",
      "Train accuracy: 87.18%\n",
      "Test accuracy: 74.36%\n",
      "n_neigbors = 6\n",
      "Train accuracy: 89.10%\n",
      "Test accuracy: 74.36%\n",
      "n_neigbors = 7\n",
      "Train accuracy: 88.46%\n",
      "Test accuracy: 79.49%\n",
      "n_neigbors = 8\n",
      "Train accuracy: 86.54%\n",
      "Test accuracy: 79.49%\n",
      "n_neigbors = 9\n",
      "Train accuracy: 87.18%\n",
      "Test accuracy: 84.62%\n"
     ]
    }
   ],
   "source": [
    "# Seek optimal 'n_neighbours' parameter\n",
    "for i in range(1,10):\n",
    "    print(\"n_neigbors = \"+str(i))\n",
    "    train_model(X_train, Y_train, X_test, Y_test, KNeighborsClassifier, n_neighbors=i)"
   ]
  },
  {
   "cell_type": "markdown",
   "metadata": {
    "colab_type": "text",
    "id": "68R3ueKTFaUc"
   },
   "source": [
    "It turns out that value of n_neighbours (8) is optimal."
   ]
  },
  {
   "cell_type": "markdown",
   "metadata": {
    "colab_type": "text",
    "id": "7n0XSJPNOfoZ"
   },
   "source": [
    "## Confusion matrix"
   ]
  },
  {
   "cell_type": "code",
   "execution_count": 53,
   "metadata": {
    "colab": {},
    "colab_type": "code",
    "id": "aoRy4axtD5ad"
   },
   "outputs": [],
   "source": [
    "from sklearn.metrics import confusion_matrix"
   ]
  },
  {
   "cell_type": "code",
   "execution_count": 54,
   "metadata": {
    "colab": {},
    "colab_type": "code",
    "id": "wvKmYt6BD7qX"
   },
   "outputs": [],
   "source": [
    "matrix= confusion_matrix(Y_test, y_pred_knn)"
   ]
  },
  {
   "cell_type": "code",
   "execution_count": 55,
   "metadata": {
    "colab": {
     "base_uri": "https://localhost:8080/",
     "height": 291
    },
    "colab_type": "code",
    "id": "TXy0X0oTEBlR",
    "outputId": "b431384a-811a-41be-ecd3-d2359ce3a2fb"
   },
   "outputs": [
    {
     "data": {
      "text/plain": [
       "<Axes: >"
      ]
     },
     "execution_count": 55,
     "metadata": {},
     "output_type": "execute_result"
    },
    {
     "data": {
      "image/png": "[encoded data removed]",
      "text/plain": [
       "<Figure size 640x480 with 2 Axes>"
      ]
     },
     "metadata": {},
     "output_type": "display_data"
    }
   ],
   "source": [
    "sns.heatmap(matrix,annot = True, fmt = \"d\")"
   ]
  },
  {
   "cell_type": "markdown",
   "metadata": {
    "colab_type": "text",
    "id": "b8hMkLCFEFz0"
   },
   "source": [
    "# precision score"
   ]
  },
  {
   "cell_type": "code",
   "execution_count": 56,
   "metadata": {
    "colab": {},
    "colab_type": "code",
    "id": "FLcUAKX0EKkc"
   },
   "outputs": [],
   "source": [
    "from sklearn.metrics import precision_score"
   ]
  },
  {
   "cell_type": "code",
   "execution_count": 57,
   "metadata": {
    "colab": {},
    "colab_type": "code",
    "id": "yGSw_ofsENSw"
   },
   "outputs": [],
   "source": [
    "precision = precision_score(Y_test, y_pred_knn)"
   ]
  },
  {
   "cell_type": "code",
   "execution_count": 58,
   "metadata": {
    "colab": {
     "base_uri": "https://localhost:8080/",
     "height": 34
    },
    "colab_type": "code",
    "id": "4f3-dP_lERby",
    "outputId": "4baa1d57-965b-4c63-b732-c385bb293976"
   },
   "outputs": [
    {
     "name": "stdout",
     "output_type": "stream",
     "text": [
      "Precision:  0.896551724137931\n"
     ]
    }
   ],
   "source": [
    "print(\"Precision: \",precision)"
   ]
  },
  {
   "cell_type": "markdown",
   "metadata": {
    "colab_type": "text",
    "id": "3tMAAU7rETsn"
   },
   "source": [
    "# recall"
   ]
  },
  {
   "cell_type": "code",
   "execution_count": 59,
   "metadata": {
    "colab": {},
    "colab_type": "code",
    "id": "sbXUbUUgEVos"
   },
   "outputs": [],
   "source": [
    "from sklearn.metrics import recall_score"
   ]
  },
  {
   "cell_type": "code",
   "execution_count": 60,
   "metadata": {
    "colab": {},
    "colab_type": "code",
    "id": "L0EV_SJcEgjA"
   },
   "outputs": [],
   "source": [
    "recall = recall_score(Y_test, y_pred_knn)"
   ]
  },
  {
   "cell_type": "code",
   "execution_count": 61,
   "metadata": {
    "colab": {
     "base_uri": "https://localhost:8080/",
     "height": 34
    },
    "colab_type": "code",
    "id": "qi-OgKIPEkCU",
    "outputId": "fab68af7-a44a-47c6-afd3-ca9a87c8b62f"
   },
   "outputs": [
    {
     "name": "stdout",
     "output_type": "stream",
     "text": [
      "Recall is:  0.8387096774193549\n"
     ]
    }
   ],
   "source": [
    "print(\"Recall is: \",recall)"
   ]
  },
  {
   "cell_type": "markdown",
   "metadata": {
    "colab_type": "text",
    "id": "5e4pPCxoElzy"
   },
   "source": [
    "# f score"
   ]
  },
  {
   "cell_type": "code",
   "execution_count": 62,
   "metadata": {
    "colab": {
     "base_uri": "https://localhost:8080/",
     "height": 34
    },
    "colab_type": "code",
    "id": "QBR3JUbKEnfK",
    "outputId": "56cf57d4-febc-4809-9895-e159cc64db5f"
   },
   "outputs": [
    {
     "name": "stdout",
     "output_type": "stream",
     "text": [
      "0.8666666666666666\n"
     ]
    }
   ],
   "source": [
    "print((2*precision*recall)/(precision+recall))"
   ]
  },
  {
   "cell_type": "markdown",
   "metadata": {
    "colab_type": "text",
    "id": "KyhawFIRPUch"
   },
   "source": [
    "# Decision Tree"
   ]
  },
  {
   "cell_type": "code",
   "execution_count": 63,
   "metadata": {
    "colab": {
     "base_uri": "https://localhost:8080/",
     "height": 51
    },
    "colab_type": "code",
    "id": "mI9I0ZtmF1mg",
    "outputId": "92e8770e-169d-4379-be08-9a1f426a67c4"
   },
   "outputs": [
    {
     "name": "stdout",
     "output_type": "stream",
     "text": [
      "[1 1 1 1 1 1 0 1 1 1 1 1 1 1 1 1 1 1 1 1 1 1 1 1 0 1 0 1 1 1 1 1 1 0 1 0 0\n",
      " 1 1]\n"
     ]
    }
   ],
   "source": [
    "from sklearn.tree import DecisionTreeClassifier\n",
    "dt = DecisionTreeClassifier(max_depth=3, random_state=0)\n",
    "\n",
    "dt.fit(X_train, Y_train)\n",
    "\n",
    "y_pred_dt = dt.predict(X_test)\n",
    "print(y_pred_dt)"
   ]
  },
  {
   "cell_type": "code",
   "execution_count": 64,
   "metadata": {
    "colab": {
     "base_uri": "https://localhost:8080/",
     "height": 34
    },
    "colab_type": "code",
    "id": "ppsxhYKtG4xx",
    "outputId": "308f9cba-9cef-4f0d-f75b-76d97898c3b3"
   },
   "outputs": [
    {
     "name": "stdout",
     "output_type": "stream",
     "text": [
      "The accuracy score achieved using Decision Tree is: 89.74 %\n"
     ]
    }
   ],
   "source": [
    "score_dt = round(accuracy_score(y_pred_dt,Y_test)*100,2)\n",
    "\n",
    "print(\"The accuracy score achieved using Decision Tree is: \"+str(score_dt)+\" %\")"
   ]
  },
  {
   "cell_type": "code",
   "execution_count": 65,
   "metadata": {
    "colab": {
     "base_uri": "https://localhost:8080/",
     "height": 51
    },
    "colab_type": "code",
    "id": "feNBLqPn658C",
    "outputId": "b1457c92-b79d-49c9-d10c-65770625be22"
   },
   "outputs": [
    {
     "name": "stdout",
     "output_type": "stream",
     "text": [
      "Accuracy on training set: 1.000\n",
      "Accuracy on test set: 0.897\n"
     ]
    }
   ],
   "source": [
    "from sklearn.tree import DecisionTreeClassifier\n",
    "tree1 = DecisionTreeClassifier(random_state=0)\n",
    "tree1.fit(X_train, Y_train)\n",
    "print(\"Accuracy on training set: {:.3f}\".format(tree1.score(X_train, Y_train)))\n",
    "print(\"Accuracy on test set: {:.3f}\".format(tree1.score(X_test, Y_test)))"
   ]
  },
  {
   "cell_type": "markdown",
   "metadata": {
    "colab_type": "text",
    "id": "Ry9mL9Py7Fx7"
   },
   "source": [
    "The accuracy on the training set is 100%, while the test set accuracy is much worse. This is an indicative that the tree is overfitting and not generalizing well to new data. Therefore, we need to apply pre-pruning to the tree.\n",
    "\n",
    "We set max_depth=3, limiting the depth of the tree decreases overfitting. This leads to a lower accuracy on the training set, but an improvement on the test set."
   ]
  },
  {
   "cell_type": "code",
   "execution_count": 66,
   "metadata": {
    "colab": {
     "base_uri": "https://localhost:8080/",
     "height": 51
    },
    "colab_type": "code",
    "id": "xwwLmy4n7Go0",
    "outputId": "efa88e70-63c0-4f6a-9e8e-148a5458be1f"
   },
   "outputs": [
    {
     "name": "stdout",
     "output_type": "stream",
     "text": [
      "Accuracy on training set: 0.923\n",
      "Accuracy on test set: 0.897\n"
     ]
    }
   ],
   "source": [
    "tree1 = DecisionTreeClassifier(max_depth=3, random_state=0)\n",
    "tree1.fit(X_train, Y_train)\n",
    "print(\"Accuracy on training set: {:.3f}\".format(tree1.score(X_train, Y_train)))\n",
    "print(\"Accuracy on test set: {:.3f}\".format(tree1.score(X_test, Y_test)))"
   ]
  },
  {
   "cell_type": "markdown",
   "metadata": {
    "colab_type": "text",
    "id": "fftdDA5nP1au"
   },
   "source": [
    "## Confusion Matrix"
   ]
  },
  {
   "cell_type": "code",
   "execution_count": 67,
   "metadata": {
    "colab": {},
    "colab_type": "code",
    "id": "NrS2eR2XE8iu"
   },
   "outputs": [],
   "source": [
    "from sklearn.metrics import confusion_matrix"
   ]
  },
  {
   "cell_type": "code",
   "execution_count": 68,
   "metadata": {
    "colab": {},
    "colab_type": "code",
    "id": "vthkpSogE-o2"
   },
   "outputs": [],
   "source": [
    "matrix= confusion_matrix(Y_test, y_pred_dt)"
   ]
  },
  {
   "cell_type": "code",
   "execution_count": 69,
   "metadata": {
    "colab": {
     "base_uri": "https://localhost:8080/",
     "height": 291
    },
    "colab_type": "code",
    "id": "GEMOk9xdFCFq",
    "outputId": "bad74c93-c1c3-48f1-b510-5eb709f41cc5"
   },
   "outputs": [
    {
     "data": {
      "text/plain": [
       "<Axes: >"
      ]
     },
     "execution_count": 69,
     "metadata": {},
     "output_type": "execute_result"
    },
    {
     "data": {
      "image/png": "[encoded data removed]",
      "text/plain": [
       "<Figure size 640x480 with 2 Axes>"
      ]
     },
     "metadata": {},
     "output_type": "display_data"
    }
   ],
   "source": [
    "sns.heatmap(matrix,annot = True, fmt = \"d\")"
   ]
  },
  {
   "cell_type": "markdown",
   "metadata": {
    "colab_type": "text",
    "id": "fCfAMy67FFWL"
   },
   "source": [
    "# precision score"
   ]
  },
  {
   "cell_type": "code",
   "execution_count": 70,
   "metadata": {
    "colab": {},
    "colab_type": "code",
    "id": "SGwTwM5TFIKl"
   },
   "outputs": [],
   "source": [
    "from sklearn.metrics import precision_score"
   ]
  },
  {
   "cell_type": "code",
   "execution_count": 71,
   "metadata": {
    "colab": {},
    "colab_type": "code",
    "id": "6rw05ERpFLgW"
   },
   "outputs": [],
   "source": [
    "precision = precision_score(Y_test, y_pred_dt)"
   ]
  },
  {
   "cell_type": "code",
   "execution_count": 72,
   "metadata": {
    "colab": {
     "base_uri": "https://localhost:8080/",
     "height": 34
    },
    "colab_type": "code",
    "id": "yOVrwHEcFKfU",
    "outputId": "9721f93f-b9ab-4dde-a42d-7449e4787bc5"
   },
   "outputs": [
    {
     "name": "stdout",
     "output_type": "stream",
     "text": [
      "Precision:  0.9090909090909091\n"
     ]
    }
   ],
   "source": [
    "print(\"Precision: \",precision)"
   ]
  },
  {
   "cell_type": "markdown",
   "metadata": {
    "colab_type": "text",
    "id": "TEcKGKlhFRTm"
   },
   "source": [
    "# recall"
   ]
  },
  {
   "cell_type": "code",
   "execution_count": 73,
   "metadata": {
    "colab": {},
    "colab_type": "code",
    "id": "VW__KUODFSvv"
   },
   "outputs": [],
   "source": [
    "from sklearn.metrics import recall_score"
   ]
  },
  {
   "cell_type": "code",
   "execution_count": 74,
   "metadata": {
    "colab": {},
    "colab_type": "code",
    "id": "10IDd-oRFXL6"
   },
   "outputs": [],
   "source": [
    "recall = recall_score(Y_test, y_pred_dt)"
   ]
  },
  {
   "cell_type": "code",
   "execution_count": 75,
   "metadata": {
    "colab": {
     "base_uri": "https://localhost:8080/",
     "height": 34
    },
    "colab_type": "code",
    "id": "dbNYr_6vFacA",
    "outputId": "d84090c3-b2dc-4167-9fd0-84f7fb495172"
   },
   "outputs": [
    {
     "name": "stdout",
     "output_type": "stream",
     "text": [
      "Recall is:  0.967741935483871\n"
     ]
    }
   ],
   "source": [
    "print(\"Recall is: \",recall)"
   ]
  },
  {
   "cell_type": "markdown",
   "metadata": {
    "colab_type": "text",
    "id": "1t9CDBujFb_O"
   },
   "source": [
    "# f score"
   ]
  },
  {
   "cell_type": "code",
   "execution_count": 76,
   "metadata": {
    "colab": {
     "base_uri": "https://localhost:8080/",
     "height": 34
    },
    "colab_type": "code",
    "id": "5OirUeKpFdeX",
    "outputId": "0ed7d747-8818-4bb7-fbd3-72c7651837ce"
   },
   "outputs": [
    {
     "name": "stdout",
     "output_type": "stream",
     "text": [
      "0.9374999999999999\n"
     ]
    }
   ],
   "source": [
    "print((2*precision*recall)/(precision+recall))"
   ]
  },
  {
   "cell_type": "markdown",
   "metadata": {},
   "source": [
    "# Final Score"
   ]
  },
  {
   "cell_type": "code",
   "execution_count": 77,
   "metadata": {
    "colab": {},
    "colab_type": "code",
    "id": "4TWcdJeUEnfD"
   },
   "outputs": [],
   "source": [
    "# initialize an empty list\n",
    "accuracy = []\n",
    "\n",
    "# list of algorithms names\n",
    "classifiers = ['KNN', 'Decision Trees', 'Logistic Regression', 'Naive Bayes' ]\n",
    "\n",
    "# list of algorithms with parameters\n",
    "models = [KNeighborsClassifier(n_neighbors=9), DecisionTreeClassifier(max_depth=3, random_state=0), LogisticRegression(), \n",
    "        GaussianNB()]\n",
    "\n",
    "# loop through algorithms and append the score into the list\n",
    "for i in models:\n",
    "    model = i\n",
    "    model.fit(X_train, Y_train)\n",
    "    score = model.score(X_test, Y_test)\n",
    "    accuracy.append(score)"
   ]
  },
  {
   "cell_type": "code",
   "execution_count": 78,
   "metadata": {
    "colab": {
     "base_uri": "https://localhost:8080/",
     "height": 204
    },
    "colab_type": "code",
    "id": "K00hPRAVE4Ua",
    "outputId": "bf52d629-d043-4ca0-d9bc-0cd90efc7a7f"
   },
   "outputs": [
    {
     "data": {
      "text/html": [
       "<div>\n",
       "<style scoped>\n",
       "    .dataframe tbody tr th:only-of-type {\n",
       "        vertical-align: middle;\n",
       "    }\n",
       "\n",
       "    .dataframe tbody tr th {\n",
       "        vertical-align: top;\n",
       "    }\n",
       "\n",
       "    .dataframe thead th {\n",
       "        text-align: right;\n",
       "    }\n",
       "</style>\n",
       "<table border=\"1\" class=\"dataframe\">\n",
       "  <thead>\n",
       "    <tr style=\"text-align: right;\">\n",
       "      <th></th>\n",
       "      <th>accuracy</th>\n",
       "    </tr>\n",
       "  </thead>\n",
       "  <tbody>\n",
       "    <tr>\n",
       "      <th>KNN</th>\n",
       "      <td>0.846154</td>\n",
       "    </tr>\n",
       "    <tr>\n",
       "      <th>Decision Trees</th>\n",
       "      <td>0.897436</td>\n",
       "    </tr>\n",
       "    <tr>\n",
       "      <th>Logistic Regression</th>\n",
       "      <td>0.820513</td>\n",
       "    </tr>\n",
       "    <tr>\n",
       "      <th>Naive Bayes</th>\n",
       "      <td>0.743590</td>\n",
       "    </tr>\n",
       "  </tbody>\n",
       "</table>\n",
       "</div>"
      ],
      "text/plain": [
       "                     accuracy\n",
       "KNN                  0.846154\n",
       "Decision Trees       0.897436\n",
       "Logistic Regression  0.820513\n",
       "Naive Bayes          0.743590"
      ]
     },
     "execution_count": 78,
     "metadata": {},
     "output_type": "execute_result"
    }
   ],
   "source": [
    "# create a dataframe from accuracy results\n",
    "summary = pd.DataFrame({'accuracy':accuracy}, index=classifiers)       \n",
    "summary"
   ]
  },
  {
   "cell_type": "code",
   "execution_count": 79,
   "metadata": {
    "colab": {
     "base_uri": "https://localhost:8080/",
     "height": 525
    },
    "colab_type": "code",
    "id": "zgCvdAxOGo6D",
    "outputId": "b5ca44aa-d75c-4858-9623-49c1524808ac"
   },
   "outputs": [
    {
     "data": {
      "text/plain": [
       "<Axes: xlabel='Algorithms', ylabel='Accuracy score'>"
      ]
     },
     "execution_count": 79,
     "metadata": {},
     "output_type": "execute_result"
    },
    {
     "data": {
      "image/png": "[encoded data removed]",
      "text/plain": [
       "<Figure size 1500x800 with 1 Axes>"
      ]
     },
     "metadata": {},
     "output_type": "display_data"
    }
   ],
   "source": [
    "scores = [score_lr,score_nb,score_knn,score_dt]\n",
    "algorithms = [\"Logistic Regression\",\"Naive Bayes\",\"K-Nearest Neighbors\",\"Decision Tree\"] \n",
    "sns.set(rc={'figure.figsize':(15,8)})\n",
    "plt.xlabel(\"Algorithms\")\n",
    "plt.ylabel(\"Accuracy score\")\n",
    "\n",
    "sns.barplot(algorithms,scores)"
   ]
  },
  {
   "cell_type": "code",
   "execution_count": 80,
   "metadata": {},
   "outputs": [],
   "source": [
    "import pickle\n",
    "filename = 'parkinson_trained_model.pkl'\n",
    "pickle.dump(tree1,open(filename,'wb'))\n"
   ]
  },
  {
   "cell_type": "code",
   "execution_count": 81,
   "metadata": {},
   "outputs": [],
   "source": [
    "loaded_model = pickle.load(open('parkinson_trained_model.pkl','rb'))"
   ]
  },
  {
   "cell_type": "code",
   "execution_count": 82,
   "metadata": {
    "scrolled": true
   },
   "outputs": [
    {
     "data": {
      "text/html": [
       "<div>\n",
       "<style scoped>\n",
       "    .dataframe tbody tr th:only-of-type {\n",
       "        vertical-align: middle;\n",
       "    }\n",
       "\n",
       "    .dataframe tbody tr th {\n",
       "        vertical-align: top;\n",
       "    }\n",
       "\n",
       "    .dataframe thead th {\n",
       "        text-align: right;\n",
       "    }\n",
       "</style>\n",
       "<table border=\"1\" class=\"dataframe\">\n",
       "  <thead>\n",
       "    <tr style=\"text-align: right;\">\n",
       "      <th></th>\n",
       "      <th>MDVP:Fo(Hz)</th>\n",
       "      <th>MDVP:Fhi(Hz)</th>\n",
       "      <th>MDVP:Flo(Hz)</th>\n",
       "      <th>NHR</th>\n",
       "      <th>HNR</th>\n",
       "      <th>status</th>\n",
       "      <th>DFA</th>\n",
       "      <th>spread</th>\n",
       "    </tr>\n",
       "  </thead>\n",
       "  <tbody>\n",
       "    <tr>\n",
       "      <th>0</th>\n",
       "      <td>119.992</td>\n",
       "      <td>157.302</td>\n",
       "      <td>74.997</td>\n",
       "      <td>0.02211</td>\n",
       "      <td>21.033</td>\n",
       "      <td>1</td>\n",
       "      <td>0.815285</td>\n",
       "      <td>0.266482</td>\n",
       "    </tr>\n",
       "    <tr>\n",
       "      <th>1</th>\n",
       "      <td>122.400</td>\n",
       "      <td>148.650</td>\n",
       "      <td>113.819</td>\n",
       "      <td>0.01929</td>\n",
       "      <td>19.085</td>\n",
       "      <td>1</td>\n",
       "      <td>0.819521</td>\n",
       "      <td>0.335590</td>\n",
       "    </tr>\n",
       "    <tr>\n",
       "      <th>2</th>\n",
       "      <td>116.682</td>\n",
       "      <td>131.111</td>\n",
       "      <td>111.555</td>\n",
       "      <td>0.01309</td>\n",
       "      <td>20.651</td>\n",
       "      <td>1</td>\n",
       "      <td>0.825288</td>\n",
       "      <td>0.311173</td>\n",
       "    </tr>\n",
       "    <tr>\n",
       "      <th>3</th>\n",
       "      <td>116.676</td>\n",
       "      <td>137.871</td>\n",
       "      <td>111.366</td>\n",
       "      <td>0.01353</td>\n",
       "      <td>20.644</td>\n",
       "      <td>1</td>\n",
       "      <td>0.819235</td>\n",
       "      <td>0.334147</td>\n",
       "    </tr>\n",
       "    <tr>\n",
       "      <th>4</th>\n",
       "      <td>116.014</td>\n",
       "      <td>141.781</td>\n",
       "      <td>110.655</td>\n",
       "      <td>0.01767</td>\n",
       "      <td>19.649</td>\n",
       "      <td>1</td>\n",
       "      <td>0.823484</td>\n",
       "      <td>0.234513</td>\n",
       "    </tr>\n",
       "  </tbody>\n",
       "</table>\n",
       "</div>"
      ],
      "text/plain": [
       "   MDVP:Fo(Hz)  MDVP:Fhi(Hz)  MDVP:Flo(Hz)      NHR     HNR  status       DFA  \\\n",
       "0      119.992       157.302        74.997  0.02211  21.033       1  0.815285   \n",
       "1      122.400       148.650       113.819  0.01929  19.085       1  0.819521   \n",
       "2      116.682       131.111       111.555  0.01309  20.651       1  0.825288   \n",
       "3      116.676       137.871       111.366  0.01353  20.644       1  0.819235   \n",
       "4      116.014       141.781       110.655  0.01767  19.649       1  0.823484   \n",
       "\n",
       "     spread  \n",
       "0  0.266482  \n",
       "1  0.335590  \n",
       "2  0.311173  \n",
       "3  0.334147  \n",
       "4  0.234513  "
      ]
     },
     "execution_count": 82,
     "metadata": {},
     "output_type": "execute_result"
    }
   ],
   "source": [
    "data.head()"
   ]
  },
  {
   "cell_type": "code",
   "execution_count": 83,
   "metadata": {},
   "outputs": [],
   "source": [
    "# case 1"
   ]
  },
  {
   "cell_type": "code",
   "execution_count": 84,
   "metadata": {},
   "outputs": [
    {
     "data": {
      "text/html": [
       "<div>\n",
       "<style scoped>\n",
       "    .dataframe tbody tr th:only-of-type {\n",
       "        vertical-align: middle;\n",
       "    }\n",
       "\n",
       "    .dataframe tbody tr th {\n",
       "        vertical-align: top;\n",
       "    }\n",
       "\n",
       "    .dataframe thead th {\n",
       "        text-align: right;\n",
       "    }\n",
       "</style>\n",
       "<table border=\"1\" class=\"dataframe\">\n",
       "  <thead>\n",
       "    <tr style=\"text-align: right;\">\n",
       "      <th></th>\n",
       "      <th>MDVP:Fo(Hz)</th>\n",
       "      <th>MDVP:Fhi(Hz)</th>\n",
       "      <th>MDVP:Flo(Hz)</th>\n",
       "      <th>NHR</th>\n",
       "      <th>HNR</th>\n",
       "      <th>status</th>\n",
       "      <th>DFA</th>\n",
       "      <th>spread</th>\n",
       "    </tr>\n",
       "  </thead>\n",
       "  <tbody>\n",
       "    <tr>\n",
       "      <th>0</th>\n",
       "      <td>119.992</td>\n",
       "      <td>157.302</td>\n",
       "      <td>74.997</td>\n",
       "      <td>0.02211</td>\n",
       "      <td>21.033</td>\n",
       "      <td>1</td>\n",
       "      <td>0.815285</td>\n",
       "      <td>0.266482</td>\n",
       "    </tr>\n",
       "    <tr>\n",
       "      <th>1</th>\n",
       "      <td>122.400</td>\n",
       "      <td>148.650</td>\n",
       "      <td>113.819</td>\n",
       "      <td>0.01929</td>\n",
       "      <td>19.085</td>\n",
       "      <td>1</td>\n",
       "      <td>0.819521</td>\n",
       "      <td>0.335590</td>\n",
       "    </tr>\n",
       "    <tr>\n",
       "      <th>2</th>\n",
       "      <td>116.682</td>\n",
       "      <td>131.111</td>\n",
       "      <td>111.555</td>\n",
       "      <td>0.01309</td>\n",
       "      <td>20.651</td>\n",
       "      <td>1</td>\n",
       "      <td>0.825288</td>\n",
       "      <td>0.311173</td>\n",
       "    </tr>\n",
       "    <tr>\n",
       "      <th>3</th>\n",
       "      <td>116.676</td>\n",
       "      <td>137.871</td>\n",
       "      <td>111.366</td>\n",
       "      <td>0.01353</td>\n",
       "      <td>20.644</td>\n",
       "      <td>1</td>\n",
       "      <td>0.819235</td>\n",
       "      <td>0.334147</td>\n",
       "    </tr>\n",
       "    <tr>\n",
       "      <th>4</th>\n",
       "      <td>116.014</td>\n",
       "      <td>141.781</td>\n",
       "      <td>110.655</td>\n",
       "      <td>0.01767</td>\n",
       "      <td>19.649</td>\n",
       "      <td>1</td>\n",
       "      <td>0.823484</td>\n",
       "      <td>0.234513</td>\n",
       "    </tr>\n",
       "  </tbody>\n",
       "</table>\n",
       "</div>"
      ],
      "text/plain": [
       "   MDVP:Fo(Hz)  MDVP:Fhi(Hz)  MDVP:Flo(Hz)      NHR     HNR  status       DFA  \\\n",
       "0      119.992       157.302        74.997  0.02211  21.033       1  0.815285   \n",
       "1      122.400       148.650       113.819  0.01929  19.085       1  0.819521   \n",
       "2      116.682       131.111       111.555  0.01309  20.651       1  0.825288   \n",
       "3      116.676       137.871       111.366  0.01353  20.644       1  0.819235   \n",
       "4      116.014       141.781       110.655  0.01767  19.649       1  0.823484   \n",
       "\n",
       "     spread  \n",
       "0  0.266482  \n",
       "1  0.335590  \n",
       "2  0.311173  \n",
       "3  0.334147  \n",
       "4  0.234513  "
      ]
     },
     "execution_count": 84,
     "metadata": {},
     "output_type": "execute_result"
    }
   ],
   "source": [
    "y = data.loc[data['status']==1]\n",
    "y.head()"
   ]
  },
  {
   "cell_type": "code",
   "execution_count": 85,
   "metadata": {
    "scrolled": false
   },
   "outputs": [
    {
     "name": "stdout",
     "output_type": "stream",
     "text": [
      "[1]\n",
      "The person need to consult a doctor and take necessary precautions\n"
     ]
    }
   ],
   "source": [
    "input_data = (119,157,74,0.02211,21.033,0.815285,0.266482)\n",
    "#chaning the input data to numpy array\n",
    "input_data_as_numpy_array = np.asarray(input_data)\n",
    "#reshape the array as we are predicting for one instance\n",
    "input_data_reshaped = input_data_as_numpy_array.reshape(1,-1)\n",
    "pred = loaded_model.predict(input_data_reshaped)\n",
    "print(pred)\n",
    "if(pred[0] == 0):\n",
    "    print(\"The person no need to worry\")\n",
    "else:\n",
    "    print(\"The person need to consult a doctor and take necessary precautions\")"
   ]
  },
  {
   "cell_type": "code",
   "execution_count": 86,
   "metadata": {},
   "outputs": [
    {
     "data": {
      "text/html": [
       "<div>\n",
       "<style scoped>\n",
       "    .dataframe tbody tr th:only-of-type {\n",
       "        vertical-align: middle;\n",
       "    }\n",
       "\n",
       "    .dataframe tbody tr th {\n",
       "        vertical-align: top;\n",
       "    }\n",
       "\n",
       "    .dataframe thead th {\n",
       "        text-align: right;\n",
       "    }\n",
       "</style>\n",
       "<table border=\"1\" class=\"dataframe\">\n",
       "  <thead>\n",
       "    <tr style=\"text-align: right;\">\n",
       "      <th></th>\n",
       "      <th>MDVP:Fo(Hz)</th>\n",
       "      <th>MDVP:Fhi(Hz)</th>\n",
       "      <th>MDVP:Flo(Hz)</th>\n",
       "      <th>NHR</th>\n",
       "      <th>HNR</th>\n",
       "      <th>status</th>\n",
       "      <th>DFA</th>\n",
       "      <th>spread</th>\n",
       "    </tr>\n",
       "  </thead>\n",
       "  <tbody>\n",
       "    <tr>\n",
       "      <th>30</th>\n",
       "      <td>197.076</td>\n",
       "      <td>206.896</td>\n",
       "      <td>192.055</td>\n",
       "      <td>0.00339</td>\n",
       "      <td>26.775</td>\n",
       "      <td>0</td>\n",
       "      <td>0.741367</td>\n",
       "      <td>0.177551</td>\n",
       "    </tr>\n",
       "    <tr>\n",
       "      <th>31</th>\n",
       "      <td>199.228</td>\n",
       "      <td>209.512</td>\n",
       "      <td>192.091</td>\n",
       "      <td>0.00167</td>\n",
       "      <td>30.940</td>\n",
       "      <td>0</td>\n",
       "      <td>0.742055</td>\n",
       "      <td>0.173319</td>\n",
       "    </tr>\n",
       "    <tr>\n",
       "      <th>32</th>\n",
       "      <td>198.383</td>\n",
       "      <td>215.203</td>\n",
       "      <td>193.104</td>\n",
       "      <td>0.00119</td>\n",
       "      <td>30.775</td>\n",
       "      <td>0</td>\n",
       "      <td>0.738703</td>\n",
       "      <td>0.175181</td>\n",
       "    </tr>\n",
       "    <tr>\n",
       "      <th>33</th>\n",
       "      <td>202.266</td>\n",
       "      <td>211.604</td>\n",
       "      <td>197.079</td>\n",
       "      <td>0.00072</td>\n",
       "      <td>32.684</td>\n",
       "      <td>0</td>\n",
       "      <td>0.742133</td>\n",
       "      <td>0.178540</td>\n",
       "    </tr>\n",
       "    <tr>\n",
       "      <th>34</th>\n",
       "      <td>203.184</td>\n",
       "      <td>211.526</td>\n",
       "      <td>196.160</td>\n",
       "      <td>0.00065</td>\n",
       "      <td>33.047</td>\n",
       "      <td>0</td>\n",
       "      <td>0.741899</td>\n",
       "      <td>0.163519</td>\n",
       "    </tr>\n",
       "  </tbody>\n",
       "</table>\n",
       "</div>"
      ],
      "text/plain": [
       "    MDVP:Fo(Hz)  MDVP:Fhi(Hz)  MDVP:Flo(Hz)      NHR     HNR  status  \\\n",
       "30      197.076       206.896       192.055  0.00339  26.775       0   \n",
       "31      199.228       209.512       192.091  0.00167  30.940       0   \n",
       "32      198.383       215.203       193.104  0.00119  30.775       0   \n",
       "33      202.266       211.604       197.079  0.00072  32.684       0   \n",
       "34      203.184       211.526       196.160  0.00065  33.047       0   \n",
       "\n",
       "         DFA    spread  \n",
       "30  0.741367  0.177551  \n",
       "31  0.742055  0.173319  \n",
       "32  0.738703  0.175181  \n",
       "33  0.742133  0.178540  \n",
       "34  0.741899  0.163519  "
      ]
     },
     "execution_count": 86,
     "metadata": {},
     "output_type": "execute_result"
    }
   ],
   "source": [
    "y = data.loc[data['status']==0]\n",
    "y.head()"
   ]
  },
  {
   "cell_type": "code",
   "execution_count": 87,
   "metadata": {},
   "outputs": [],
   "source": [
    "# Case 2"
   ]
  },
  {
   "cell_type": "code",
   "execution_count": 88,
   "metadata": {},
   "outputs": [
    {
     "name": "stdout",
     "output_type": "stream",
     "text": [
      "[0]\n",
      "The User no need to worry\n"
     ]
    }
   ],
   "source": [
    "input_data = (197.076,206.896,192,0.00339,26.775,0.74,0.177)\n",
    "#chaning the input data to numpy array\n",
    "input_data_as_numpy_array = np.asarray(input_data)\n",
    "#reshape the array as we are predicting for one instance\n",
    "input_data_reshaped = input_data_as_numpy_array.reshape(1,-1)\n",
    "pred = loaded_model.predict(input_data_reshaped)\n",
    "print(pred)\n",
    "if(pred[0] == 0):\n",
    "    print(\"The User no need to worry\")\n",
    "else:\n",
    "    print(\"The User need to consult a doctor and take necessary precautions\")\n"
   ]
  }
 ],
 "metadata": {
  "accelerator": "TPU",
  "colab": {
   "collapsed_sections": [
    "UCW6of9jeOml",
    "hSl7ocqMeq2O",
    "fTOn3hNfgMyQ"
   ],
   "name": "heart_Disease.ipynb",
   "provenance": [],
   "version": "0.3.2"
  },
  "kernelspec": {
   "display_name": "Python 3 (ipykernel)",
   "language": "python",
   "name": "python3"
  },
  "language_info": {
   "codemirror_mode": {
    "name": "ipython",
    "version": 3
   },
   "file_extension": ".py",
   "mimetype": "text/x-python",
   "name": "python",
   "nbconvert_exporter": "python",
   "pygments_lexer": "ipython3",
   "version": "3.9.13"
  }
 },
 "nbformat": 4,
 "nbformat_minor": 1
}
